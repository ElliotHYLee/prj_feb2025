{
 "cells": [
  {
   "cell_type": "markdown",
   "metadata": {},
   "source": [
    "# 1. Fixed probability for a rainy day\n",
    "\n",
    "N choose k with binomial probability distribution can do very simple calculation. However, it doesn't cover the case where the probablity differs by day."
   ]
  },
  {
   "cell_type": "code",
   "execution_count": 2,
   "metadata": {},
   "outputs": [
    {
     "name": "stdout",
     "output_type": "stream",
     "text": [
      "The probability that it will rain 183 days in a year is 0.0417\n",
      "The probability that it will rain 100 days in a year is 0.0000\n"
     ]
    }
   ],
   "source": [
    "from scipy.stats import binom\n",
    "\n",
    "def rain_probability(N, p):\n",
    "    n = 365\n",
    "    prob = binom.pmf(N, n, p)\n",
    "    return prob\n",
    "\n",
    "p = 0.5  \n",
    "N = 183\n",
    "\n",
    "probability = rain_probability(N, p)\n",
    "print(f\"The probability that it will rain {N} days in a year is {probability:.4f}\")\n",
    "\n",
    "N = 100\n",
    "probability = rain_probability(N, p)\n",
    "print(f\"The probability that it will rain {N} days in a year is {probability:.4f}\")"
   ]
  },
  {
   "cell_type": "markdown",
   "metadata": {},
   "source": [
    "# 2. Variable p, the probability of rain on a given day.\n",
    "\n",
    "$ f(i, k) = f(i-1,k)\\times(1-p[i]) + f(i-1, k-1)\\times p[i] $\n",
    "\n",
    "- rain today => k-1 rainy days previously\n",
    "- no rain today = k rainy days previously\n"
   ]
  },
  {
   "cell_type": "code",
   "execution_count": null,
   "metadata": {},
   "outputs": [],
   "source": [
    "import numpy as np\n",
    "\n",
    "# Only think about today based on the previous day's probabilities for god sake!\n",
    "\n",
    "def update_rainy_day_probs(prev_probs: np.ndarray, rain_prob: float, max_rainy_days: int) -> np.ndarray:\n",
    "    curr_probs = np.zeros(max_rainy_days + 1) # include 0 rainy days\n",
    "\n",
    "    upto = min(len(prev_probs), max_rainy_days + 1)\n",
    "    for k in range(upto):\n",
    "        if k == 0:\n",
    "            # No rain from previous day at all : k-1 case fix.\n",
    "            curr_probs[0] = prev_probs[0] * (1 - rain_prob)\n",
    "        else:\n",
    "            # rain and no rain based on previous day\n",
    "            curr_probs[k] = (prev_probs[k] * (1 - rain_prob) + prev_probs[k-1] * rain_prob)\n",
    "    \n",
    "    return curr_probs"
   ]
  },
  {
   "cell_type": "code",
   "execution_count": 4,
   "metadata": {},
   "outputs": [],
   "source": [
    "def prob_rain_more_than_n(p: np.ndarray, n: int) -> float:\n",
    "    # Initialize history with Day 0\n",
    "    history = []\n",
    "    nrd = np.zeros(n + 1)\n",
    "    nrd[0] = 1.0 - p[0]  # No rain on Day 0\n",
    "    if n >= 1: # at least 1 rainy day after all\n",
    "        nrd[1] = p[0]    # Rain on Day 0\n",
    "    history.append(nrd.copy())\n",
    "    \n",
    "    # Outer loop over days\n",
    "    for i in range(1, 365):\n",
    "        prev_probs = history[-1]\n",
    "        curr_probs = update_rainy_day_probs(prev_probs, p[i], n)\n",
    "        history.append(curr_probs.copy())\n",
    "    \n",
    "    # Compute probability of more than n rainy days\n",
    "    prob_n_or_less = history[-1].sum()\n",
    "    return 1.0 - prob_n_or_less"
   ]
  },
  {
   "cell_type": "code",
   "execution_count": 7,
   "metadata": {},
   "outputs": [
    {
     "name": "stdout",
     "output_type": "stream",
     "text": [
      "Probability of more than 182 rainy days: -0.000000\n"
     ]
    }
   ],
   "source": [
    "\n",
    "#p = np.ones(365) * 0.5  \n",
    "p =  np.random.rand(365) * 0.5555\n",
    "N = 182\n",
    "result = prob_rain_more_than_n(p, N)\n",
    "print(f\"Probability of more than {N} rainy days: {result:.6f}\")"
   ]
  },
  {
   "cell_type": "code",
   "execution_count": 8,
   "metadata": {},
   "outputs": [
    {
     "data": {
      "text/plain": [
       "[<matplotlib.lines.Line2D at 0x146d01704d0>]"
      ]
     },
     "execution_count": 8,
     "metadata": {},
     "output_type": "execute_result"
    },
    {
     "data": {
      "image/png": "[encoded data removed]",
      "text/plain": [
       "<Figure size 640x480 with 1 Axes>"
      ]
     },
     "metadata": {},
     "output_type": "display_data"
    }
   ],
   "source": [
    "x = np.linspace(0, 365, 366)\n",
    "y = [prob_rain_more_than_n(p, i) for i in range(366)]\n",
    "\n",
    "import matplotlib.pyplot as plt\n",
    "\n",
    "plt.plot(x, y)\n",
    "\n",
    "\n",
    "    "
   ]
  }
 ],
 "metadata": {
  "kernelspec": {
   "display_name": "base",
   "language": "python",
   "name": "python3"
  },
  "language_info": {
   "codemirror_mode": {
    "name": "ipython",
    "version": 3
   },
   "file_extension": ".py",
   "mimetype": "text/x-python",
   "name": "python",
   "nbconvert_exporter": "python",
   "pygments_lexer": "ipython3",
   "version": "3.12.7"
  }
 },
 "nbformat": 4,
 "nbformat_minor": 2
}
